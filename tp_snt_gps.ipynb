{
 "cells": [
  {
   "cell_type": "markdown",
   "metadata": {},
   "source": [
    "# SNT : Localisation et cartographie."
   ]
  },
  {
   "cell_type": "markdown",
   "metadata": {},
   "source": [
    "## Exercice 1 : Conversions DMS / DD / DM.\n",
    "\n",
    "1. Convertir 12°25'15'' puis 80°48'35''en DD.\n",
    "\n",
    "2. Convertir 23,52° puis 32,28° en DMS puis en DM.\n",
    "\n",
    "3. Convertir 43°30,55' (DM) en DMS puis en DD.\n",
    "\n",
    "Vous pouvez vérifier vos résultats sur le site : [convertisseur](http://xjubier.free.fr/site_pages/DMS2DD_Converter.html) ou [convertisseur](http://michel.lalos.free.fr/cadrans_solaires/scripts/convertisseur.html)\n",
    "\n",
    "4. On donne la fonction Python DD_DMS(d) qui permet de convertir un angle en DD en DMS : "
   ]
  },
  {
   "cell_type": "code",
   "execution_count": 1,
   "metadata": {},
   "outputs": [
    {
     "name": "stdout",
     "output_type": "stream",
     "text": [
      "23°31'12.0''\n"
     ]
    }
   ],
   "source": [
    "def DD_DMS(d):\n",
    "    partie_entiere = int(d)  \n",
    "    partie_decimale = d - int(d)\n",
    "    degre = partie_entiere\n",
    "    min = int(partie_decimale * 60)\n",
    "    sec = round((partie_decimale * 60 - min) * 60, 2)\n",
    "    dms = str(degre)+ \"°\" + str(min) + \"'\" + str(sec) + \"''\"\n",
    "    return dms\n",
    "\n",
    "print(DD_DMS(23.52))"
   ]
  },
  {
   "cell_type": "markdown",
   "metadata": {},
   "source": [
    "On donne les fonction DMS_DM(d,m,s) et DM_DMS(d,m) qui permettent respectivement de convertir les angles en DMS en DM et les angles en DM en DMS. Tester ces fonctions sur les calculs précédents."
   ]
  },
  {
   "cell_type": "code",
   "execution_count": null,
   "metadata": {},
   "outputs": [],
   "source": [
    "def DMS_DM(d,m,s):\n",
    "    min = m + s/60\n",
    "    dm = str(d) + '°' + str(min) + \"'\"\n",
    "    return dm\n",
    "\n",
    "def DM_DMS(d,m):\n",
    "    min = int(m)\n",
    "    sec = round((m - min) * 60, 2)\n",
    "    dms = str(d) + '°' + str(min) + \"'\" + str(sec) + \"''\"\n",
    "    return dms"
   ]
  },
  {
   "cell_type": "markdown",
   "metadata": {},
   "source": [
    "Écrire une fonction Python `DMS_DD(d,m,s)` qui permet de convertir un angle en DMS en DD (la fonction retourne un nombre décimal, pas une chaîne de caractères comme les fonctions données)."
   ]
  },
  {
   "cell_type": "markdown",
   "metadata": {},
   "source": [
    "## Exercice 2 : Trame NMEA-0183\n",
    "\n",
    "On a noté ci-dessous quelques instructions et fonctions Python qui vous aiderons à faire l'exercice :"
   ]
  },
  {
   "cell_type": "code",
   "execution_count": 2,
   "metadata": {},
   "outputs": [
    {
     "name": "stdout",
     "output_type": "stream",
     "text": [
      "['Touille', ' Sacha', ' M', ' 17']\n"
     ]
    }
   ],
   "source": [
    "ligne = 'Touille, Sacha, M, 17'  #ligne est de type str (chaine de caractères)\n",
    "table = ligne.split(',')   #table est de type list (liste)\n",
    "print(table)   #affichage de la liste"
   ]
  },
  {
   "cell_type": "code",
   "execution_count": 3,
   "metadata": {},
   "outputs": [
    {
     "name": "stdout",
     "output_type": "stream",
     "text": [
      " Sacha\n"
     ]
    }
   ],
   "source": [
    "print(table[1])  #affiche l'élément d'indice 1 de la liste -> de type str"
   ]
  },
  {
   "cell_type": "code",
   "execution_count": 4,
   "metadata": {},
   "outputs": [
    {
     "name": "stdout",
     "output_type": "stream",
     "text": [
      " 17\n"
     ]
    }
   ],
   "source": [
    "print(table[3])  #affiche l'élément d'indice 3 de la liste -> de type int"
   ]
  },
  {
   "cell_type": "markdown",
   "metadata": {},
   "source": [
    "1. D’après ces résultats, comment obtenir en Python une liste qu'on nommera `attribut` à partir d’une chaîne de caractères nommée `trame` ?\n",
    "\n",
    "    On donne : `trame1 = \"$GPGGA,113025.119,4340.2124,N,007.9053,E,1,06,3.2,15.2,M, , , ,0000*0E\"`\n",
    "\n",
    "2. En vous aidant de l'exemple suivant, compléter la fonction `equipement(trame)` qui reçoit une trame complète (comme trame1) et renvoie l’identifiant du récepteur, c’est-à-dire les deux premières lettres du type de la trame (premier élément après le caractère $). "
   ]
  },
  {
   "cell_type": "code",
   "execution_count": 5,
   "metadata": {},
   "outputs": [
    {
     "name": "stdout",
     "output_type": "stream",
     "text": [
      "BC\n"
     ]
    }
   ],
   "source": [
    "chaine1 = 'ABCDEFGH'\n",
    "chaine2 = chaine1[1:3]  #extrait une chaîne de caractères d'une chaîne de caractères.\n",
    "print(chaine2)"
   ]
  },
  {
   "cell_type": "code",
   "execution_count": null,
   "metadata": {},
   "outputs": [],
   "source": [
    "def equipement(trame):\n",
    "    id = trame...\n",
    "    return id"
   ]
  },
  {
   "cell_type": "markdown",
   "metadata": {},
   "source": [
    "Faire l'essai avec la trame précédente. La fonction doit retourner 'GP'.\n",
    "\n",
    "3. Le but est de compléter la fonction précédente pour qu’elle renvoie le nom de l’équipement qui a émis la trame. On utilisera les correspondances suivantes :\n",
    "\n",
    "- BD ou GB : Beidou\n",
    "\n",
    "- GA : Galileo\n",
    "\n",
    "- GP : GPS\n",
    "\n",
    "- GL : GLONASS\n"
   ]
  },
  {
   "cell_type": "code",
   "execution_count": null,
   "metadata": {},
   "outputs": [],
   "source": [
    "def equipement(trame):\n",
    "    id = trame...\n",
    "    if id == 'GD' or id == 'GB':\n",
    "        return 'Beidou'\n",
    "    elif ..."
   ]
  },
  {
   "cell_type": "markdown",
   "metadata": {},
   "source": [
    "Tester la fonction avec la trame `trame1`.\n",
    "\n",
    "4. Compléter la fonction `heure(trame)` qui reçoit une trame complète et renvoie l’heure en h, min, s :"
   ]
  },
  {
   "cell_type": "code",
   "execution_count": null,
   "metadata": {},
   "outputs": [],
   "source": [
    "def heure(trame):\n",
    "    trame_liste = ...\n",
    "    heure = trame_liste[...]\n",
    "    h = heure[0:2]\n",
    "    min = ...\n",
    "    sec = ...\n",
    "    hms = h+'h'+min+'min'+sec+'s'\n",
    "    return ..."
   ]
  },
  {
   "cell_type": "markdown",
   "metadata": {},
   "source": [
    "Tester la fonction avec trame1."
   ]
  },
  {
   "cell_type": "markdown",
   "metadata": {},
   "source": [
    "5. Écrire une fonction `latitude(trame)` qui reçoit une trame complète et renvoie la latitude en DD (et en précisant N ou S). Faire de même avec une fonction `longitude(trame)`."
   ]
  }
 ],
 "metadata": {
  "kernelspec": {
   "display_name": "Python3.85Test",
   "language": "python",
   "name": "python3.85test"
  },
  "language_info": {
   "codemirror_mode": {
    "name": "ipython",
    "version": 3
   },
   "file_extension": ".py",
   "mimetype": "text/x-python",
   "name": "python",
   "nbconvert_exporter": "python",
   "pygments_lexer": "ipython3",
   "version": "3.8.5"
  }
 },
 "nbformat": 4,
 "nbformat_minor": 4
}
